{
 "cells": [
  {
   "cell_type": "code",
   "execution_count": 1,
   "metadata": {},
   "outputs": [],
   "source": [
    "import tensorflow as tf\n",
    "import sys\n",
    "import random\n",
    "import time\n",
    "\n",
    "import labelreg.helpers as helper\n",
    "import labelreg.networks as network\n",
    "import labelreg.utils as util\n",
    "import labelreg.losses as loss"
   ]
  },
  {
   "cell_type": "code",
   "execution_count": 2,
   "metadata": {},
   "outputs": [
    {
     "name": "stdout",
     "output_type": "stream",
     "text": [
      "Reading default config file in: C:\\Users\\yhu\\Git\\tutorials2019\\weakly\\config_demo.ini.\n",
      "\n",
      "[Data]: dir_moving_image: ./data/train/mr_images\n",
      "[Data]: dir_fixed_image: ./data/train/us_images\n",
      "[Data]: dir_moving_label: ./data/train/mr_labels\n",
      "[Data]: dir_fixed_label: ./data/train/us_labels\n",
      "[Network]: network_type: local\n",
      "[Loss]: similarity_type: dice\n",
      "[Loss]: similarity_scales: [0, 1, 2, 4, 8]\n",
      "[Loss]: regulariser_type: bending\n",
      "[Loss]: regulariser_weight: 0.5\n",
      "[Train]: total_iterations: 10000\n",
      "[Train]: learning_rate: 1e-05\n",
      "[Train]: minibatch_size: 4\n",
      "[Train]: freq_info_print: 10\n",
      "[Train]: freq_model_save: 50\n",
      "[Train]: file_model_save: ./data/model.ckpt\n",
      "\n"
     ]
    }
   ],
   "source": [
    "config = helper.ConfigParser(sys.argv, 'training')"
   ]
  },
  {
   "cell_type": "code",
   "execution_count": 3,
   "metadata": {},
   "outputs": [],
   "source": [
    "reader_moving_image, reader_fixed_image, reader_moving_label, reader_fixed_label = helper.get_data_readers(\n",
    "    config['Data']['dir_moving_image'],\n",
    "    config['Data']['dir_fixed_image'],\n",
    "    config['Data']['dir_moving_label'],\n",
    "    config['Data']['dir_fixed_label'])"
   ]
  },
  {
   "cell_type": "code",
   "execution_count": 4,
   "metadata": {},
   "outputs": [
    {
     "name": "stdout",
     "output_type": "stream",
     "text": [
      "WARNING:tensorflow:From C:\\Users\\yhu\\Git\\tutorials2019\\weakly\\labelreg\\utils.py:60: to_float (from tensorflow.python.ops.math_ops) is deprecated and will be removed in a future version.\n",
      "Instructions for updating:\n",
      "Use tf.cast instead.\n"
     ]
    }
   ],
   "source": [
    "ph_moving_image = tf.placeholder(tf.float32, [config['Train']['minibatch_size']]+reader_moving_image.data_shape+[1])\n",
    "ph_fixed_image = tf.placeholder(tf.float32, [config['Train']['minibatch_size']]+reader_fixed_image.data_shape+[1])\n",
    "ph_moving_affine = tf.placeholder(tf.float32, [config['Train']['minibatch_size']]+[1, 12])\n",
    "ph_fixed_affine = tf.placeholder(tf.float32, [config['Train']['minibatch_size']]+[1, 12])\n",
    "input_moving_image = util.warp_image_affine(ph_moving_image, ph_moving_affine)  # data augmentation\n",
    "input_fixed_image = util.warp_image_affine(ph_fixed_image, ph_fixed_affine)  # data augmentation"
   ]
  },
  {
   "cell_type": "code",
   "execution_count": 5,
   "metadata": {},
   "outputs": [
    {
     "name": "stdout",
     "output_type": "stream",
     "text": [
      "\n",
      "WARNING: The TensorFlow contrib module will not be included in TensorFlow 2.0.\n",
      "For more information, please see:\n",
      "  * https://github.com/tensorflow/community/blob/master/rfcs/20180907-contrib-sunset.md\n",
      "  * https://github.com/tensorflow/addons\n",
      "If you depend on functionality not listed there, please file an issue.\n",
      "\n",
      "WARNING:tensorflow:From C:\\Users\\yhu\\Anaconda3\\envs\\tensorflow_env\\lib\\site-packages\\tensorflow\\python\\framework\\op_def_library.py:263: colocate_with (from tensorflow.python.framework.ops) is deprecated and will be removed in a future version.\n",
      "Instructions for updating:\n",
      "Colocations handled automatically by placer.\n"
     ]
    }
   ],
   "source": [
    "reg_net = network.build_network(network_type=config['Network']['network_type'],\n",
    "                                minibatch_size=config['Train']['minibatch_size'],\n",
    "                                image_moving=input_moving_image,\n",
    "                                image_fixed=input_fixed_image)"
   ]
  },
  {
   "cell_type": "code",
   "execution_count": 6,
   "metadata": {},
   "outputs": [],
   "source": [
    "ph_moving_label = tf.placeholder(tf.float32, [config['Train']['minibatch_size']]+reader_moving_image.data_shape+[1])\n",
    "ph_fixed_label = tf.placeholder(tf.float32, [config['Train']['minibatch_size']]+reader_fixed_image.data_shape+[1])\n",
    "input_moving_label = util.warp_image_affine(ph_moving_label, ph_moving_affine)  # data augmentation\n",
    "input_fixed_label = util.warp_image_affine(ph_fixed_label, ph_fixed_affine)  # data augmentation"
   ]
  },
  {
   "cell_type": "code",
   "execution_count": 7,
   "metadata": {},
   "outputs": [],
   "source": [
    "warped_moving_label = reg_net.warp_image(input_moving_label)  # warp the moving label with the predicted ddf"
   ]
  },
  {
   "cell_type": "code",
   "execution_count": 8,
   "metadata": {},
   "outputs": [],
   "source": [
    "loss_similarity, loss_regulariser = loss.build_loss(similarity_type=config['Loss']['similarity_type'],\n",
    "                                                    similarity_scales=config['Loss']['similarity_scales'],\n",
    "                                                    regulariser_type=config['Loss']['regulariser_type'],\n",
    "                                                    regulariser_weight=config['Loss']['regulariser_weight'],\n",
    "                                                    label_moving=warped_moving_label,\n",
    "                                                    label_fixed=input_fixed_label,\n",
    "                                                    network_type=config['Network']['network_type'],\n",
    "                                                    ddf=reg_net.ddf)"
   ]
  },
  {
   "cell_type": "code",
   "execution_count": null,
   "metadata": {},
   "outputs": [
    {
     "name": "stdout",
     "output_type": "stream",
     "text": [
      "WARNING:tensorflow:From C:\\Users\\yhu\\Anaconda3\\envs\\tensorflow_env\\lib\\site-packages\\tensorflow\\python\\ops\\math_ops.py:3066: to_int32 (from tensorflow.python.ops.math_ops) is deprecated and will be removed in a future version.\n",
      "Instructions for updating:\n",
      "Use tf.cast instead.\n"
     ]
    }
   ],
   "source": [
    "train_op = tf.train.AdamOptimizer(config['Train']['learning_rate']).minimize(loss_similarity+loss_regulariser)"
   ]
  },
  {
   "cell_type": "code",
   "execution_count": null,
   "metadata": {},
   "outputs": [],
   "source": [
    "dice = util.compute_binary_dice(warped_moving_label, input_fixed_label)\n",
    "dist = util.compute_centroid_distance(warped_moving_label, input_fixed_label)"
   ]
  },
  {
   "cell_type": "code",
   "execution_count": null,
   "metadata": {},
   "outputs": [],
   "source": [
    "num_minibatch = int(reader_moving_label.num_data/config['Train']['minibatch_size'])\n",
    "train_indices = [i for i in range(reader_moving_label.num_data)]\n",
    "\n",
    "saver = tf.train.Saver(max_to_keep=1)\n",
    "sess = tf.Session()\n",
    "sess.run(tf.global_variables_initializer())"
   ]
  },
  {
   "cell_type": "code",
   "execution_count": null,
   "metadata": {},
   "outputs": [],
   "source": [
    "for step in range(config['Train']['total_iterations']):\n",
    "\n",
    "    if step in range(0, config['Train']['total_iterations'], num_minibatch):\n",
    "        random.shuffle(train_indices)\n",
    "\n",
    "    minibatch_idx = step % num_minibatch\n",
    "    case_indices = train_indices[\n",
    "                    minibatch_idx*config['Train']['minibatch_size']:(minibatch_idx+1)*config['Train']['minibatch_size']]\n",
    "    label_indices = [random.randrange(reader_moving_label.num_labels[i]) for i in case_indices]\n",
    "\n",
    "    trainFeed = {ph_moving_image: reader_moving_image.get_data(case_indices),\n",
    "                 ph_fixed_image: reader_fixed_image.get_data(case_indices),\n",
    "                 ph_moving_label: reader_moving_label.get_data(case_indices, label_indices),\n",
    "                 ph_fixed_label: reader_fixed_label.get_data(case_indices, label_indices),\n",
    "                 ph_moving_affine: helper.random_transform_generator(config['Train']['minibatch_size']),\n",
    "                 ph_fixed_affine: helper.random_transform_generator(config['Train']['minibatch_size'])}\n",
    "\n",
    "    sess.run(train_op, feed_dict=trainFeed)\n",
    "\n",
    "    if step in range(0, config['Train']['total_iterations'], config['Train']['freq_info_print']):\n",
    "        current_time = time.asctime(time.gmtime())\n",
    "        loss_similarity_train, loss_regulariser_train, dice_train, dist_train = sess.run(\n",
    "            [loss_similarity,\n",
    "             loss_regulariser,\n",
    "             dice,\n",
    "             dist],\n",
    "            feed_dict=trainFeed)\n",
    "\n",
    "        # print('----- Training -----')\n",
    "        print('Step %d [%s]: Loss=%f (similarity=%f, regulariser=%f)' %\n",
    "              (step,\n",
    "               current_time,\n",
    "               loss_similarity_train+loss_regulariser_train,\n",
    "               1-loss_similarity_train,\n",
    "               loss_regulariser_train))\n",
    "        print('  Dice: %s' % dice_train)\n",
    "        print('  Distance: %s' % dist_train)\n",
    "        print('  Image-label indices: %s - %s' % (case_indices, label_indices))\n",
    "\n",
    "    if step in range(0, config['Train']['total_iterations'], config['Train']['freq_model_save']):\n",
    "        save_path = saver.save(sess, config['Train']['file_model_save'], write_meta_graph=False)\n",
    "        print(\"Model saved in: %s\" % save_path)"
   ]
  },
  {
   "cell_type": "code",
   "execution_count": null,
   "metadata": {},
   "outputs": [],
   "source": []
  }
 ],
 "metadata": {
  "kernelspec": {
   "display_name": "Python 3",
   "language": "python",
   "name": "python3"
  },
  "language_info": {
   "codemirror_mode": {
    "name": "ipython",
    "version": 3
   },
   "file_extension": ".py",
   "mimetype": "text/x-python",
   "name": "python",
   "nbconvert_exporter": "python",
   "pygments_lexer": "ipython3",
   "version": "3.7.2"
  }
 },
 "nbformat": 4,
 "nbformat_minor": 2
}

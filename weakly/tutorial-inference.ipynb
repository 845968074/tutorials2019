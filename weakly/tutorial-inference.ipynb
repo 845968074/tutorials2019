{
 "cells": [
  {
   "cell_type": "code",
   "execution_count": null,
   "metadata": {},
   "outputs": [],
   "source": [
    "import tensorflow as tf\n",
    "import sys\n",
    "\n",
    "import labelreg.helpers as helper\n",
    "import labelreg.networks as network\n",
    "import labelreg.apps as app"
   ]
  },
  {
   "cell_type": "markdown",
   "metadata": {},
   "source": [
    "The inference part of the config file will be used."
   ]
  },
  {
   "cell_type": "code",
   "execution_count": null,
   "metadata": {},
   "outputs": [],
   "source": [
    "config = helper.ConfigParser(sys.argv, 'inference')"
   ]
  },
  {
   "cell_type": "markdown",
   "metadata": {},
   "source": [
    "Data feeders for inference"
   ]
  },
  {
   "cell_type": "code",
   "execution_count": null,
   "metadata": {},
   "outputs": [],
   "source": [
    "reader_moving_image, reader_fixed_image, _, _ = helper.get_data_readers(config['Inference']['dir_moving_image'],\n",
    "                                                                        config['Inference']['dir_fixed_image'])\n"
   ]
  },
  {
   "cell_type": "markdown",
   "metadata": {},
   "source": [
    "Placeholders do not need to have the same minibatch size as that in training"
   ]
  },
  {
   "cell_type": "code",
   "execution_count": null,
   "metadata": {},
   "outputs": [],
   "source": [
    "ph_moving_image = tf.placeholder(tf.float32, [reader_moving_image.num_data]+reader_moving_image.data_shape+[1])\n",
    "ph_fixed_image = tf.placeholder(tf.float32, [reader_fixed_image.num_data]+reader_fixed_image.data_shape+[1])\n"
   ]
  },
  {
   "cell_type": "markdown",
   "metadata": {},
   "source": [
    "Load the same network."
   ]
  },
  {
   "cell_type": "code",
   "execution_count": null,
   "metadata": {},
   "outputs": [],
   "source": [
    "reg_net = network.build_network(network_type=config['Network']['network_type'],\n",
    "                                minibatch_size=reader_moving_image.num_data,\n",
    "                                image_moving=ph_moving_image,\n",
    "                                image_fixed=ph_fixed_image)"
   ]
  },
  {
   "cell_type": "markdown",
   "metadata": {},
   "source": [
    "Now populate the saved network weights to the loaded network"
   ]
  },
  {
   "cell_type": "code",
   "execution_count": null,
   "metadata": {},
   "outputs": [],
   "source": [
    "saver = tf.train.Saver()\n",
    "sess = tf.Session()\n",
    "saver.restore(sess, config['Inference']['file_model_saved'])"
   ]
  },
  {
   "cell_type": "markdown",
   "metadata": {},
   "source": [
    "Feed the test images and save the predicted DDFs"
   ]
  },
  {
   "cell_type": "code",
   "execution_count": null,
   "metadata": {},
   "outputs": [],
   "source": [
    "testFeed = {ph_moving_image: reader_moving_image.get_data(),\n",
    "            ph_fixed_image: reader_fixed_image.get_data()}\n",
    "ddf = sess.run(reg_net.ddf, feed_dict=testFeed)\n",
    "helper.write_images(ddf, config['Inference']['dir_save'], 'ddf')"
   ]
  },
  {
   "cell_type": "markdown",
   "metadata": {},
   "source": [
    "Save the warped images"
   ]
  },
  {
   "cell_type": "code",
   "execution_count": null,
   "metadata": {},
   "outputs": [],
   "source": [
    "warped_images = app.warp_volumes_by_ddf(reader_moving_image.get_data(), ddf)\n",
    "helper.write_images(warped_images, config['Inference']['dir_save'], 'warped_image')"
   ]
  },
  {
   "cell_type": "markdown",
   "metadata": {},
   "source": [
    "Save the warped labels"
   ]
  },
  {
   "cell_type": "code",
   "execution_count": null,
   "metadata": {},
   "outputs": [],
   "source": [
    "# warp test labels of gland segmentation, i.e. label_indices=0\n",
    "if config['Inference']['dir_moving_label']:\n",
    "    data_moving_label = helper.DataReader(config['Inference']['dir_moving_label']).get_data(label_indices=[0])\n",
    "    warped_labels = app.warp_volumes_by_ddf(data_moving_label, ddf)\n",
    "    helper.write_images(warped_labels, config['Inference']['dir_save'], 'warped_label')"
   ]
  }
 ],
 "metadata": {
  "kernelspec": {
   "display_name": "Python 3",
   "language": "python",
   "name": "python3"
  },
  "language_info": {
   "codemirror_mode": {
    "name": "ipython",
    "version": 3
   },
   "file_extension": ".py",
   "mimetype": "text/x-python",
   "name": "python",
   "nbconvert_exporter": "python",
   "pygments_lexer": "ipython3",
   "version": "3.7.2"
  }
 },
 "nbformat": 4,
 "nbformat_minor": 2
}

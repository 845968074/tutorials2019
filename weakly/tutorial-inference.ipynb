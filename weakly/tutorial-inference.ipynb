{
 "cells": [
  {
   "cell_type": "code",
   "execution_count": 1,
   "metadata": {},
   "outputs": [],
   "source": [
    "import tensorflow as tf\n",
    "import sys\n",
    "\n",
    "import labelreg.helpers as helper\n",
    "import labelreg.networks as network\n",
    "import labelreg.apps as app"
   ]
  },
  {
   "cell_type": "code",
   "execution_count": 2,
   "metadata": {},
   "outputs": [
    {
     "name": "stdout",
     "output_type": "stream",
     "text": [
      "Reading default config file in: C:\\Users\\yhu\\Git\\tutorials2019\\weakly\\config_demo.ini.\n",
      "\n",
      "[Network]: network_type: local\n",
      "[Inference]: file_model_saved: C:\\Users\\yhu/git/label-reg/data/model.ckpt\n",
      "[Inference]: dir_moving_image: C:\\Users\\yhu/git/label-reg/data/test/mr_images\n",
      "[Inference]: dir_fixed_image: C:\\Users\\yhu/git/label-reg/data/test/us_images\n",
      "[Inference]: dir_save: C:\\Users\\yhu/git/label-reg/data/\n",
      "[Inference]: dir_moving_label: C:\\Users\\yhu/git/label-reg/data/test/mr_labels\n",
      "[Inference]: dir_fixed_label: C:\\Users\\yhu/git/label-reg/data/test/us_labels\n",
      "\n"
     ]
    }
   ],
   "source": [
    "config = helper.ConfigParser(sys.argv, 'inference')"
   ]
  },
  {
   "cell_type": "code",
   "execution_count": 3,
   "metadata": {},
   "outputs": [],
   "source": [
    "reader_moving_image, reader_fixed_image, _, _ = helper.get_data_readers(config['Inference']['dir_moving_image'],\n",
    "                                                                        config['Inference']['dir_fixed_image'])\n"
   ]
  },
  {
   "cell_type": "code",
   "execution_count": 4,
   "metadata": {},
   "outputs": [],
   "source": [
    "ph_moving_image = tf.placeholder(tf.float32, [reader_moving_image.num_data]+reader_moving_image.data_shape+[1])\n",
    "ph_fixed_image = tf.placeholder(tf.float32, [reader_fixed_image.num_data]+reader_fixed_image.data_shape+[1])\n"
   ]
  },
  {
   "cell_type": "code",
   "execution_count": 5,
   "metadata": {},
   "outputs": [
    {
     "name": "stdout",
     "output_type": "stream",
     "text": [
      "WARNING:tensorflow:From C:\\Users\\yhu\\Git\\tutorials2019\\weakly\\labelreg\\utils.py:60: to_float (from tensorflow.python.ops.math_ops) is deprecated and will be removed in a future version.\n",
      "Instructions for updating:\n",
      "Use tf.cast instead.\n",
      "\n",
      "WARNING: The TensorFlow contrib module will not be included in TensorFlow 2.0.\n",
      "For more information, please see:\n",
      "  * https://github.com/tensorflow/community/blob/master/rfcs/20180907-contrib-sunset.md\n",
      "  * https://github.com/tensorflow/addons\n",
      "If you depend on functionality not listed there, please file an issue.\n",
      "\n",
      "WARNING:tensorflow:From C:\\Users\\yhu\\Anaconda3\\envs\\tensorflow_env\\lib\\site-packages\\tensorflow\\python\\framework\\op_def_library.py:263: colocate_with (from tensorflow.python.framework.ops) is deprecated and will be removed in a future version.\n",
      "Instructions for updating:\n",
      "Colocations handled automatically by placer.\n"
     ]
    }
   ],
   "source": [
    "reg_net = network.build_network(network_type=config['Network']['network_type'],\n",
    "                                minibatch_size=reader_moving_image.num_data,\n",
    "                                image_moving=ph_moving_image,\n",
    "                                image_fixed=ph_fixed_image)"
   ]
  },
  {
   "cell_type": "code",
   "execution_count": 6,
   "metadata": {},
   "outputs": [
    {
     "name": "stdout",
     "output_type": "stream",
     "text": [
      "WARNING:tensorflow:From C:\\Users\\yhu\\Anaconda3\\envs\\tensorflow_env\\lib\\site-packages\\tensorflow\\python\\training\\saver.py:1266: checkpoint_exists (from tensorflow.python.training.checkpoint_management) is deprecated and will be removed in a future version.\n",
      "Instructions for updating:\n",
      "Use standard file APIs to check for files with this prefix.\n",
      "INFO:tensorflow:Restoring parameters from C:\\Users\\yhu/git/label-reg/data/model.ckpt\n"
     ]
    }
   ],
   "source": [
    "saver = tf.train.Saver()\n",
    "sess = tf.Session()\n",
    "saver.restore(sess, config['Inference']['file_model_saved'])"
   ]
  },
  {
   "cell_type": "code",
   "execution_count": 7,
   "metadata": {},
   "outputs": [],
   "source": [
    "testFeed = {ph_moving_image: reader_moving_image.get_data(),\n",
    "            ph_fixed_image: reader_fixed_image.get_data()}\n",
    "ddf = sess.run(reg_net.ddf, feed_dict=testFeed)\n",
    "helper.write_images(ddf, config['Inference']['dir_save'], 'ddf')"
   ]
  },
  {
   "cell_type": "code",
   "execution_count": 8,
   "metadata": {},
   "outputs": [],
   "source": [
    "warped_images = app.warp_volumes_by_ddf(reader_moving_image.get_data(), ddf)\n",
    "helper.write_images(warped_images, config['Inference']['dir_save'], 'warped_image')"
   ]
  },
  {
   "cell_type": "code",
   "execution_count": 9,
   "metadata": {},
   "outputs": [],
   "source": [
    "warped_images = app.warp_volumes_by_ddf(reader_moving_image.get_data(), ddf)\n",
    "helper.write_images(warped_images, config['Inference']['dir_save'], 'warped_image')"
   ]
  },
  {
   "cell_type": "code",
   "execution_count": null,
   "metadata": {},
   "outputs": [],
   "source": []
  }
 ],
 "metadata": {
  "kernelspec": {
   "display_name": "Python 3",
   "language": "python",
   "name": "python3"
  },
  "language_info": {
   "codemirror_mode": {
    "name": "ipython",
    "version": 3
   },
   "file_extension": ".py",
   "mimetype": "text/x-python",
   "name": "python",
   "nbconvert_exporter": "python",
   "pygments_lexer": "ipython3",
   "version": "3.7.2"
  }
 },
 "nbformat": 4,
 "nbformat_minor": 2
}
